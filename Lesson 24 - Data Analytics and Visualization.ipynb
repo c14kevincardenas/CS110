{
 "cells": [
  {
   "cell_type": "markdown",
   "id": "62b79827",
   "metadata": {},
   "source": [
    "# Lesson 24 - Data Visualization\n",
    "In this lesson we will walk thorugh importing data and vizualizing it to easily and quickly answer some questions about our data. Data Visualization is an amazing technique to explore your data, answer questions about your data and summarize your analysis!\n",
    "***\n",
    "First, we will import the necessary modules for easy data processing."
   ]
  },
  {
   "cell_type": "code",
   "execution_count": 35,
   "id": "3431368f",
   "metadata": {},
   "outputs": [],
   "source": [
    "import numpy as np\n",
    "import pandas as pd\n",
    "import matplotlib.pyplot as plt\n",
    "import seaborn as sns\n",
    "plt.rcParams['figure.figsize'] = [10, 5]"
   ]
  },
  {
   "cell_type": "markdown",
   "id": "0c25d65f",
   "metadata": {},
   "source": [
    "Next we will read in our data using `pandas` and store the data in the variable `df` (for DataFrame). You can think of a DataFrame like a table or 2D list!"
   ]
  },
  {
   "cell_type": "code",
   "execution_count": 36,
   "id": "6b86a250",
   "metadata": {},
   "outputs": [],
   "source": [
    "df = pd.read_csv('movies.csv')"
   ]
  },
  {
   "cell_type": "code",
   "execution_count": 37,
   "id": "f6eaded0",
   "metadata": {},
   "outputs": [
    {
     "data": {
      "text/html": [
       "<div>\n",
       "<style scoped>\n",
       "    .dataframe tbody tr th:only-of-type {\n",
       "        vertical-align: middle;\n",
       "    }\n",
       "\n",
       "    .dataframe tbody tr th {\n",
       "        vertical-align: top;\n",
       "    }\n",
       "\n",
       "    .dataframe thead th {\n",
       "        text-align: right;\n",
       "    }\n",
       "</style>\n",
       "<table border=\"1\" class=\"dataframe\">\n",
       "  <thead>\n",
       "    <tr style=\"text-align: right;\">\n",
       "      <th></th>\n",
       "      <th>Date</th>\n",
       "      <th>Movie Title</th>\n",
       "      <th>Franchise</th>\n",
       "      <th>Production Budget</th>\n",
       "      <th>Opening Weekend</th>\n",
       "      <th>Domestic Box Office</th>\n",
       "      <th>Worldwide Box Office</th>\n",
       "      <th>IMDb Rating</th>\n",
       "    </tr>\n",
       "  </thead>\n",
       "  <tbody>\n",
       "    <tr>\n",
       "      <th>0</th>\n",
       "      <td>22-Nov-95</td>\n",
       "      <td>Toy Story</td>\n",
       "      <td>Toy Story</td>\n",
       "      <td>30000000</td>\n",
       "      <td>29140617</td>\n",
       "      <td>192523233</td>\n",
       "      <td>365270951</td>\n",
       "      <td>8.3</td>\n",
       "    </tr>\n",
       "    <tr>\n",
       "      <th>1</th>\n",
       "      <td>13-Nov-99</td>\n",
       "      <td>Toy Story 2</td>\n",
       "      <td>Toy Story</td>\n",
       "      <td>90000000</td>\n",
       "      <td>300163</td>\n",
       "      <td>245852179</td>\n",
       "      <td>511358276</td>\n",
       "      <td>7.9</td>\n",
       "    </tr>\n",
       "    <tr>\n",
       "      <th>2</th>\n",
       "      <td>18-Jun-10</td>\n",
       "      <td>Toy Story 3</td>\n",
       "      <td>Toy Story</td>\n",
       "      <td>200000000</td>\n",
       "      <td>110307189</td>\n",
       "      <td>415004880</td>\n",
       "      <td>1068879522</td>\n",
       "      <td>8.2</td>\n",
       "    </tr>\n",
       "    <tr>\n",
       "      <th>3</th>\n",
       "      <td>21-Jun-19</td>\n",
       "      <td>Toy Story 4</td>\n",
       "      <td>Toy Story</td>\n",
       "      <td>200000000</td>\n",
       "      <td>120908065</td>\n",
       "      <td>434038008</td>\n",
       "      <td>1073080329</td>\n",
       "      <td>7.7</td>\n",
       "    </tr>\n",
       "    <tr>\n",
       "      <th>4</th>\n",
       "      <td>3-Sep-21</td>\n",
       "      <td>Shang-Chi and the Legend of…</td>\n",
       "      <td>Marvel</td>\n",
       "      <td>150000000</td>\n",
       "      <td>75388688</td>\n",
       "      <td>206181396</td>\n",
       "      <td>386981396</td>\n",
       "      <td>7.9</td>\n",
       "    </tr>\n",
       "    <tr>\n",
       "      <th>...</th>\n",
       "      <td>...</td>\n",
       "      <td>...</td>\n",
       "      <td>...</td>\n",
       "      <td>...</td>\n",
       "      <td>...</td>\n",
       "      <td>...</td>\n",
       "      <td>...</td>\n",
       "      <td>...</td>\n",
       "    </tr>\n",
       "    <tr>\n",
       "      <th>62</th>\n",
       "      <td>16-May-02</td>\n",
       "      <td>Star Wars Ep. II: Attack of…</td>\n",
       "      <td>Star Wars</td>\n",
       "      <td>115000000</td>\n",
       "      <td>80027814</td>\n",
       "      <td>310676740</td>\n",
       "      <td>656695615</td>\n",
       "      <td>6.5</td>\n",
       "    </tr>\n",
       "    <tr>\n",
       "      <th>63</th>\n",
       "      <td>19-May-99</td>\n",
       "      <td>Star Wars Ep. I: The Phanto…</td>\n",
       "      <td>Star Wars</td>\n",
       "      <td>115000000</td>\n",
       "      <td>64810970</td>\n",
       "      <td>474544677</td>\n",
       "      <td>1027044677</td>\n",
       "      <td>6.5</td>\n",
       "    </tr>\n",
       "    <tr>\n",
       "      <th>64</th>\n",
       "      <td>25-May-83</td>\n",
       "      <td>Star Wars Ep. VI: Return of…</td>\n",
       "      <td>Star Wars</td>\n",
       "      <td>32500000</td>\n",
       "      <td>23019618</td>\n",
       "      <td>309205079</td>\n",
       "      <td>475106177</td>\n",
       "      <td>8.3</td>\n",
       "    </tr>\n",
       "    <tr>\n",
       "      <th>65</th>\n",
       "      <td>21-May-80</td>\n",
       "      <td>Star Wars Ep. V: The Empire…</td>\n",
       "      <td>Star Wars</td>\n",
       "      <td>23000000</td>\n",
       "      <td>4910483</td>\n",
       "      <td>291738960</td>\n",
       "      <td>549001242</td>\n",
       "      <td>8.7</td>\n",
       "    </tr>\n",
       "    <tr>\n",
       "      <th>66</th>\n",
       "      <td>25-May-77</td>\n",
       "      <td>Star Wars Ep. IV: A New Hope</td>\n",
       "      <td>Star Wars</td>\n",
       "      <td>11000000</td>\n",
       "      <td>1554475</td>\n",
       "      <td>460998007</td>\n",
       "      <td>775398007</td>\n",
       "      <td>8.6</td>\n",
       "    </tr>\n",
       "  </tbody>\n",
       "</table>\n",
       "<p>67 rows × 8 columns</p>\n",
       "</div>"
      ],
      "text/plain": [
       "         Date                   Movie Title  Franchise  Production Budget  \\\n",
       "0   22-Nov-95                     Toy Story  Toy Story           30000000   \n",
       "1   13-Nov-99                   Toy Story 2  Toy Story           90000000   \n",
       "2   18-Jun-10                   Toy Story 3  Toy Story          200000000   \n",
       "3   21-Jun-19                   Toy Story 4  Toy Story          200000000   \n",
       "4    3-Sep-21  Shang-Chi and the Legend of…     Marvel          150000000   \n",
       "..        ...                           ...        ...                ...   \n",
       "62  16-May-02  Star Wars Ep. II: Attack of…  Star Wars          115000000   \n",
       "63  19-May-99  Star Wars Ep. I: The Phanto…  Star Wars          115000000   \n",
       "64  25-May-83  Star Wars Ep. VI: Return of…  Star Wars           32500000   \n",
       "65  21-May-80  Star Wars Ep. V: The Empire…  Star Wars           23000000   \n",
       "66  25-May-77  Star Wars Ep. IV: A New Hope  Star Wars           11000000   \n",
       "\n",
       "    Opening Weekend  Domestic Box Office  Worldwide Box Office  IMDb Rating  \n",
       "0          29140617            192523233             365270951          8.3  \n",
       "1            300163            245852179             511358276          7.9  \n",
       "2         110307189            415004880            1068879522          8.2  \n",
       "3         120908065            434038008            1073080329          7.7  \n",
       "4          75388688            206181396             386981396          7.9  \n",
       "..              ...                  ...                   ...          ...  \n",
       "62         80027814            310676740             656695615          6.5  \n",
       "63         64810970            474544677            1027044677          6.5  \n",
       "64         23019618            309205079             475106177          8.3  \n",
       "65          4910483            291738960             549001242          8.7  \n",
       "66          1554475            460998007             775398007          8.6  \n",
       "\n",
       "[67 rows x 8 columns]"
      ]
     },
     "execution_count": 37,
     "metadata": {},
     "output_type": "execute_result"
    }
   ],
   "source": [
    "df"
   ]
  },
  {
   "cell_type": "markdown",
   "id": "435b7542",
   "metadata": {},
   "source": [
    "## Question 1: Which franchise is the most successful franchise?\n",
    "This question can be answered in several different ways, but the easiest way is probably to plot the average `Domestic Box Office` profits for each `Franchise` using a **bar plot**."
   ]
  },
  {
   "cell_type": "code",
   "execution_count": 38,
   "id": "c881c6e3",
   "metadata": {
    "scrolled": true
   },
   "outputs": [
    {
     "data": {
      "image/png": "[encoded data removed]",
      "text/plain": [
       "<Figure size 720x360 with 1 Axes>"
      ]
     },
     "metadata": {
      "needs_background": "light"
     },
     "output_type": "display_data"
    }
   ],
   "source": [
    "sns.barplot(x=df['Franchise'], y=df['Domestic Box Office'])\n",
    "plt.show()"
   ]
  },
  {
   "cell_type": "markdown",
   "id": "7a779c46",
   "metadata": {},
   "source": [
    "Looks like Star Wars is our winner!\n",
    "***\n",
    "## Question 2: Is there any relationship between the IMDb Rating and the Domestic Box Office total gross profits?\n",
    "In order to quick inspect relationships between two pieces of information, we can use a **scatter plot**. If we see an upward trend in our scatter points, we can say that there is a relationship between the two variables."
   ]
  },
  {
   "cell_type": "code",
   "execution_count": 48,
   "id": "0c8fddac",
   "metadata": {
    "scrolled": true
   },
   "outputs": [
    {
     "data": {
      "image/png": "[encoded data removed]",
      "text/plain": [
       "<Figure size 720x360 with 1 Axes>"
      ]
     },
     "metadata": {
      "needs_background": "light"
     },
     "output_type": "display_data"
    }
   ],
   "source": [
    "sns.scatterplot(x = df['IMDb Rating'], y = df['Domestic Box Office'])\n",
    "plt.show()"
   ]
  },
  {
   "cell_type": "markdown",
   "id": "4fee5f19",
   "metadata": {},
   "source": [
    "It looks like there is a trend between `IMDb Rating` and `Domestic Box Office`! As the rating increases (to the right on the x-axis) the profits also increase (going up the y-axis).\n",
    "***\n",
    "## Question 3: Is there a trend in Domestic Profits for Star Wars?\n",
    "One of the best ways to spot a trend in data is to use a line plot! This is especially effective when we are looking at the trend over time. First we have to get all of our Star Wars movies and then we can make a line plot with the `Date` on the x-axis and the `Domestic Box Office` profits on the y-axis."
   ]
  },
  {
   "cell_type": "code",
   "execution_count": 47,
   "id": "c8afd116",
   "metadata": {},
   "outputs": [
    {
     "data": {
      "image/png": "[encoded data removed]",
      "text/plain": [
       "<Figure size 720x360 with 1 Axes>"
      ]
     },
     "metadata": {
      "needs_background": "light"
     },
     "output_type": "display_data"
    }
   ],
   "source": [
    "sw = df.loc[df.Franchise == 'Star Wars']\n",
    "sns.lineplot(x=sw.Date, y=sw['Domestic Box Office'])\n",
    "plt.show()"
   ]
  },
  {
   "cell_type": "code",
   "execution_count": null,
   "id": "f7e5ecbc",
   "metadata": {},
   "outputs": [],
   "source": []
  }
 ],
 "metadata": {
  "kernelspec": {
   "display_name": "Python 3",
   "language": "python",
   "name": "python3"
  },
  "language_info": {
   "codemirror_mode": {
    "name": "ipython",
    "version": 3
   },
   "file_extension": ".py",
   "mimetype": "text/x-python",
   "name": "python",
   "nbconvert_exporter": "python",
   "pygments_lexer": "ipython3",
   "version": "3.8.8"
  }
 },
 "nbformat": 4,
 "nbformat_minor": 5
}
